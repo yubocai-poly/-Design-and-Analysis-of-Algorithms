{
 "cells": [
  {
   "cell_type": "markdown",
   "metadata": {},
   "source": [
    "## CSE202 - Disign and Analysis of Algorithms - Week 4 - Divide & Conquer 3: Master Theorem; Advanced “Conquer” Example"
   ]
  },
  {
   "cell_type": "markdown",
   "metadata": {},
   "source": [
    "日期：2022-11-31\n",
    "\n",
    "姓名：Yubo Cai\n",
    "\n",
    "课程：CSE202 - Disign and Analysis of Algorithms 高级算法设计与分析\n",
    "\n",
    "<img src=\"https://raw.githubusercontent.com/adimajo/CSE204-2021/master/data/logo.jpg\" style=\"float: left; width: 15%\" />"
   ]
  },
  {
   "cell_type": "code",
   "execution_count": 1,
   "metadata": {},
   "outputs": [],
   "source": [
    "from sympy.matrices import randMatrix\n",
    "import numpy as np\n",
    "import matplotlib.pyplot as plt\n",
    "import timeit\n",
    "import math\n",
    "import sympy as sym"
   ]
  },
  {
   "cell_type": "markdown",
   "metadata": {},
   "source": [
    "### 1. Master Theorem"
   ]
  },
  {
   "cell_type": "markdown",
   "metadata": {},
   "source": [
    "#### 1.1 Master Theorem - Version 1\n",
    "\n",
    "Assume $C(n) \\leq m C(\\lceil n / p\\rceil)+f(n)$ if $n \\geq p$ \n",
    "\n",
    "with $f(n)=c n^\\alpha(\\alpha \\geq 0)$. Let $q=p^\\alpha$.\n",
    "\n",
    "Then, as $n \\rightarrow \\infty$,\n",
    "$$\n",
    "C(n)= \\begin{cases}O\\left(n^\\alpha\\right), & \\text { if } q>m \\\\ O\\left(n^\\alpha \\log n\\right), & \\text { if } q=m \\\\ O\\left(n^{\\log _p m}\\right) & \\text { if } q<m\\end{cases}\n",
    "$$\n",
    "\n",
    "#### 1.2 Examples\n",
    "\n",
    "`1. With q = m`\n",
    "\n",
    "`Merge sort`: $C(n) \\leq 2C(\\lceil n/2 \\rceil)+\\lambda n$\n",
    "\n",
    "$p=2$, $m=2$, $\\alpha = 1$, $q = p^{\\alpha} =2$ \n",
    "\n",
    "$C(n)=O(n \\log n)$\n",
    "\n",
    "`Binary Search, binary powering`: $C(n) \\leq C(\\lceil n/2 \\rceil)+\\lambda$\n",
    "\n",
    "$p=2$, $m=1$, $\\alpha = 0$, $q = p^{\\alpha} =1$\n",
    "\n",
    "$C(n)=O(\\log n)$\n",
    "\n",
    "`2. With q < m`\n",
    "\n",
    "`Karatsuba`: $C(n) \\leq 3C(\\lceil n/2 \\rceil)+\\lambda n$\n",
    "\n",
    "$p=2$, $m=3$, $\\alpha = 1$, $q = p^{\\alpha} =2$\n",
    "\n",
    "$C(n)=O(n^{\\log_2 3})$\n",
    "\n",
    "`Toom-Cook 3`: $C(n) \\leq 5C(\\lceil n/3 \\rceil)+\\lambda n$\n",
    "\n",
    "$p=3$, $m=5$, $\\alpha = 1$, $q = p^{\\alpha} =3$\n",
    "\n",
    "$C(n)=O(n^{\\log_3 5})$\n",
    "\n",
    "`Strassen`: $C(n) \\leq 7C(\\lceil n/2 \\rceil)+\\lambda n^2$\n",
    "\n",
    "$p=2$, $m=7$, $\\alpha = 2$, $q = p^{\\alpha} =4$\n",
    "\n",
    "$C(n)=O(n^{\\log_2 7})$\n",
    "\n",
    "#### 1.3 Proof when $n$ is a Power of $p$\n",
    "$$\n",
    "\\begin{aligned}\n",
    "C(n) &\\leq mC(n/p)+f(n) \\\\\n",
    "&\\leq f(n)+m f(n / p)+m^2 C\\left(n / p^2\\right)\\\\\n",
    "&\\leq f(n)(1+m / q)+m^2 C\\left(n / p^2\\right)\\\\\n",
    "&\\leq f(n)\\left(1+m / q+\\cdots+(m / q)^{k-1}\\right)+m^k C\\left(n / p^k\\right)\\\\\n",
    "&\\leq f(n)\\left(1+m / q+\\cdots+(m / q)^{k-1}\\right)+O\\left(m^k\\right)\\\\\n",
    "&\\leq \\underbrace{O\\left(n^{\\log _p m}\\right)}_{\\text {not larger }}+\\underbrace{f(n)}_{c n^{\\log _p q}} \\times \\begin{cases}O(1), & \\text { if } q>m, \\\\ \\log _p n, & \\text { if } q=m, \\\\ O\\left(n^{\\log _p(m / q)}\\right), & \\text { if } q<m .\\end{cases}\n",
    "\\end{aligned}\n",
    "$$\n",
    "\n",
    "#### 1.4 Master Theorem - Even More General Version\n",
    "Assume $C(n) \\leq m C(\\lceil n / p\\rceil)+f(n)$ if $n \\geq p$, with $f(n)$ `increasing` and there exist $(q, r)$ s.t. $q \\leq f(p n) / f(n) \\leq r$ for large enough $n$. \n",
    "\n",
    "Then, as $n \\rightarrow \\infty$,\n",
    "$$\n",
    "C(n)= \\begin{cases}O(f(n)), & \\text { if } q>m, \\\\ O(f(n) \\log n), & \\text { if } q=m, \\\\ O\\left(f(n) n^{\\log _p(m / q)}\\right) & \\text { if } q<m .\\end{cases}\n",
    "$$\n",
    "**Note 1.** When $f(n)=cn^{\\alpha}$, then $q=r=p^{\\alpha}$. The previous result is a special case of this one.\n",
    "\n",
    "**Note 2.** A tighter value of q gives a better complexity bound.\n"
   ]
  },
  {
   "cell_type": "markdown",
   "metadata": {},
   "source": [
    "### 2. Closest Pair of Points\n",
    "\n",
    "#### 2.1 Problem Statement\n",
    "\n",
    "Given a set of $n$ points in the plane, find the closest pair of points.\n",
    "$$\n",
    "d\\left(\\left(x_0, y_0\\right),\\left(x_1, y_1\\right)\\right)=\\sqrt{\\left(x_0-x_1\\right)^2+\\left(y_0-y_1\\right)^2}\n",
    "$$\n",
    "`Naive Method`: Compute all $n(n-1)/2$ distances and find the minimum.\n",
    "\n",
    "`Divide and Conquer`: split points into left and right, solve both subproblems (ok), recombine (hard)."
   ]
  },
  {
   "cell_type": "markdown",
   "metadata": {},
   "source": [
    "<img src=\"https://media.geeksforgeeks.org/wp-content/uploads/mindis.png\" style=\"float: left; width: 25%\" />"
   ]
  },
  {
   "cell_type": "markdown",
   "metadata": {},
   "source": [
    "#### 2.2 Algorithm Closest Pair\n",
    "\n",
    "`Input`: P: array of pairs of coordinates. X,Y := indices of P sorted by $x,y$ coordinates.\n",
    "\n",
    "`Output`: min $d(P[i], P[j])$ for $i \\neq j$\n",
    "\n",
    "Base Case:\n",
    "- if $|X|=1$ return $\\infty$\n",
    "- if $|X|=2$ return $d(P[X[0]], P[X[1]])$\n",
    "\n",
    "Divide:\n",
    "- $k=\\lceil |X|/2 \\rceil$; $X_L = X[0:k-1], X_R = X[k:|X|-1]$\n",
    "- $(X_{l}, X_{r})$ = split $X$ at index $k$\n",
    "- $(Y_{l}, Y_{r})$ = split $Y$ at index $k$\n",
    "\n",
    "Recursion:\n",
    "- $d_{l} = \\text{ClosestPair}(P, X_{l}, Y_{l})$; $d_{r} = \\text{ClosestPair}(P, X_{r}, Y_{r})$\n",
    "\n",
    "Combine:\n",
    "- $d = \\min(d_{l}, d_{r})$; $U=[i \\in Y | P[i]]$.$x \\in [X_{m}-d, X_{m}+d]$\n",
    "- $d' = \\min{d(P[U[i]], P[U[j]]) | i < |U|, i<j\\leq \\min(i+7, |U|) }$\n",
    "- return $\\min(d, d')$"
   ]
  }
 ],
 "metadata": {
  "kernelspec": {
   "display_name": "Python 3.9.7 ('base')",
   "language": "python",
   "name": "python3"
  },
  "language_info": {
   "codemirror_mode": {
    "name": "ipython",
    "version": 3
   },
   "file_extension": ".py",
   "mimetype": "text/x-python",
   "name": "python",
   "nbconvert_exporter": "python",
   "pygments_lexer": "ipython3",
   "version": "3.9.7"
  },
  "orig_nbformat": 4,
  "vscode": {
   "interpreter": {
    "hash": "40d3a090f54c6569ab1632332b64b2c03c39dcf918b08424e98f38b5ae0af88f"
   }
  }
 },
 "nbformat": 4,
 "nbformat_minor": 2
}
