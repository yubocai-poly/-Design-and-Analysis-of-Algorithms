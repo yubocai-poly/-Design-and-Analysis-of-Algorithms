{
 "cells": [
  {
   "cell_type": "markdown",
   "metadata": {},
   "source": [
    "## CSE202 - Disign and Analysis of Algorithms - Week 1 - Overview"
   ]
  },
  {
   "cell_type": "markdown",
   "metadata": {},
   "source": [
    "日期：2022-09-21\n",
    "\n",
    "姓名：Yubo Cai\n",
    "\n",
    "课程：CSE202 - Disign and Analysis of Algorithms 高级算法设计与分析\n",
    "\n",
    "<img src=\"https://raw.githubusercontent.com/adimajo/CSE204-2021/master/data/logo.jpg\" style=\"float: left; width: 15%\" />"
   ]
  },
  {
   "cell_type": "code",
   "execution_count": 1,
   "metadata": {},
   "outputs": [],
   "source": [
    "from sympy.matrices import randMatrix\n",
    "import numpy as np\n",
    "import matplotlib.pyplot as plt\n",
    "import timeit\n",
    "import math\n",
    "import sympy as sym"
   ]
  },
  {
   "cell_type": "markdown",
   "metadata": {},
   "source": [
    "### Experimental Determination of (Polynomial) Complexity"
   ]
  },
  {
   "cell_type": "markdown",
   "metadata": {},
   "source": [
    "If the time for a computation grows like $C(n) \\sim K n^\\alpha \\log ^p n$ \n",
    "\n",
    "then doubling $n$ should take time $C(2 n) \\sim K 2^\\alpha n^\\alpha \\log ^p n$ \n",
    "\n",
    "so that $\\alpha \\approx \\log _2 \\frac{C(2 n)}{C(n)}$"
   ]
  },
  {
   "cell_type": "markdown",
   "metadata": {},
   "source": [
    "#### Example: matrix multiplication"
   ]
  },
  {
   "cell_type": "code",
   "execution_count": 7,
   "metadata": {},
   "outputs": [
    {
     "name": "stdout",
     "output_type": "stream",
     "text": [
      "10 0.009209038900007727\n",
      "20 0.06633043079996241\n",
      "30 0.20833230520000826\n",
      "40 0.30689427219998605\n",
      "50 0.5600206662000119\n",
      "60 0.9706092546000036\n",
      "70 1.6901699580000127\n",
      "80 2.5314794677999997\n",
      "0.35105599833838635\n",
      "0.4524889091182898\n",
      "0.3284970726414696\n"
     ]
    }
   ],
   "source": [
    "def testMatrixMul(size, nbtests):\n",
    "    total = 0\n",
    "    for i in range(nbtests):\n",
    "        A = randMatrix(size) * 1.\n",
    "        B = randMatrix(size) * 1.\n",
    "\n",
    "        def doit():\n",
    "            return A * B\n",
    "\n",
    "        total += timeit.timeit(doit, number=1)\n",
    "    return total / nbtests\n",
    "\n",
    "\n",
    "# 我们打印出矩阵乘法的时间\n",
    "time = []\n",
    "for n in range(10, 90, 10):\n",
    "    time.append(testMatrixMul(n, 10))\n",
    "\n",
    "for i in range(len(time)):\n",
    "    print(10 + i * 10, time[i])\n",
    "\n",
    "print(math.log(2, time[1] / time[0]))\n",
    "print(math.log(2, time[3] / time[1]))\n",
    "print(math.log(2, time[7] / time[3]))\n"
   ]
  },
  {
   "cell_type": "markdown",
   "metadata": {},
   "source": [
    "我们发现矩阵相乘的时间复杂度是 $O(n^3)$，主要原因是矩阵相乘的程序中用到了3个for循环的嵌套, 从上面的实验结果可以看出来基本比值在3左右"
   ]
  },
  {
   "cell_type": "markdown",
   "metadata": {},
   "source": [
    "### Binary Powering 1. Model"
   ]
  },
  {
   "cell_type": "code",
   "execution_count": 14,
   "metadata": {},
   "outputs": [
    {
     "data": {
      "text/plain": [
       "[<matplotlib.lines.Line2D at 0x7fdf9abe9ee0>]"
      ]
     },
     "execution_count": 14,
     "metadata": {},
     "output_type": "execute_result"
    },
    {
     "data": {
      "image/png": "[encoded data removed]",
      "text/plain": [
       "<Figure size 432x288 with 1 Axes>"
      ]
     },
     "metadata": {
      "needs_background": "light"
     },
     "output_type": "display_data"
    }
   ],
   "source": [
    "def binpow(x, n):\n",
    "    if n == 0:\n",
    "        return 1\n",
    "    if n == 1:\n",
    "        return x\n",
    "    tmp = binpow(x, n // 2)\n",
    "    tmp = tmp * tmp\n",
    "    if n % 2 == 0:\n",
    "        return tmp\n",
    "    return tmp * x\n",
    "\n",
    "\n",
    "def test(size, maxpow):\n",
    "    A = randMatrix(size) * 1.\n",
    "    val = [0 for i in range(maxpow)]\n",
    "    for i in range(maxpow):\n",
    "\n",
    "        def doit():\n",
    "            return binpow(A, i)\n",
    "\n",
    "        val[i] = timeit.timeit(doit, number=3)\n",
    "    return val\n",
    "\n",
    "\n",
    "time = test(20,200)\n",
    "# 我们打印出矩阵乘法的时间, 然后画出图像\n",
    "plt.plot(time)"
   ]
  },
  {
   "cell_type": "markdown",
   "metadata": {},
   "source": [
    "### Binary Powering 3. Analysis"
   ]
  },
  {
   "cell_type": "markdown",
   "metadata": {},
   "source": [
    "算法如下\n",
    "$$\n",
    "C(n)=1+\\left\\{\\begin{array}{ll}\n",
    "C(n / 2), & \\text { for even } n>0 \\\\\n",
    "C((n-1) / 2)+1, & \\text { for odd } n>1\n",
    "\\end{array} \\quad \\text { with } C(0)=C(1)=0\\right.\n",
    "$$\n",
    "\n",
    "我们可以通过数学归纳法去证明这个算法的正确性，分别分析奇数和偶数的情况，由于$\\lambda(\\frac{n+1}{2}) = \\lambda(n+1)$，因为是2进制除以2的话相当于右移一位。我们可以找到这个算法的计算次数是 \n",
    "\n",
    "$$\n",
    "\\text { Lemma. For } n \\geq 1, C(n)=\\left\\lfloor\\log _2 n\\right\\rfloor-1+\\lambda(n)0\n",
    "$$\n",
    "这里$\\lambda(n)$是指把数字转化成二进制中1的个数. 例如 82 = 1010010, $\\lambda(82)=3$，因此mult的个数是6-1+3=8. 由此公式最后的出来$C(n)$的范围是\n",
    "$$\n",
    "\\left\\lfloor\\log _2 n\\right\\rfloor \\leq C(n) \\leq 2\\left\\lfloor\\log _2 n\\right\\rfloor\n",
    "$$\n",
    "因为$\\lambda(n)$的范围是\n",
    "$$\n",
    "0 \\leq \\lambda(n) \\leq \\left\\lfloor\\log _2 n\\right\\rfloor\n",
    "$$"
   ]
  },
  {
   "cell_type": "markdown",
   "metadata": {},
   "source": [
    "### Complexity of a Problem"
   ]
  },
  {
   "cell_type": "markdown",
   "metadata": {},
   "source": [
    "The complexity of a problem is that of the most efficient (possibly unknown) algorithm that solves it.\n",
    "\n",
    "Sorting elements has complexity $O(n \\log n)$ comparisons.\n",
    "\n",
    "例如，排序的复杂度是$O(n \\log n)$，因为最快的排序算法是归并排序，归并排序的复杂度是$O(n \\log n)$\n",
    "\n",
    "Proof. $k$ comparisons cannot distinguish more than $2^k$ permutations and $\\log _2 n ! \\sim n \\log _2 n$"
   ]
  },
  {
   "cell_type": "markdown",
   "metadata": {},
   "source": [
    "### Homework"
   ]
  },
  {
   "cell_type": "code",
   "execution_count": 2,
   "metadata": {},
   "outputs": [
    {
     "name": "stdout",
     "output_type": "stream",
     "text": [
      "[-LambertW(-log(2))/log(2)]\n"
     ]
    }
   ],
   "source": [
    "def function1(x):\n",
    "    # function is loglog(x) - logloglog(x) = 0\n",
    "    return sym.log(sym.log(x, 2), 2) - sym.log(sym.log(sym.log(x, 2), 2), 2)\n",
    "\n",
    "x = sym.symbols('x')\n",
    "print(sym.solve(function1(x)))"
   ]
  }
 ],
 "metadata": {
  "kernelspec": {
   "display_name": "Python 3.9.7 ('base')",
   "language": "python",
   "name": "python3"
  },
  "language_info": {
   "codemirror_mode": {
    "name": "ipython",
    "version": 3
   },
   "file_extension": ".py",
   "mimetype": "text/x-python",
   "name": "python",
   "nbconvert_exporter": "python",
   "pygments_lexer": "ipython3",
   "version": "3.9.7"
  },
  "orig_nbformat": 4,
  "vscode": {
   "interpreter": {
    "hash": "40d3a090f54c6569ab1632332b64b2c03c39dcf918b08424e98f38b5ae0af88f"
   }
  }
 },
 "nbformat": 4,
 "nbformat_minor": 2
}
