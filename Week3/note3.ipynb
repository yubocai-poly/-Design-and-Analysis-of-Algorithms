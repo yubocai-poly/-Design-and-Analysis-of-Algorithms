{
 "cells": [
  {
   "cell_type": "markdown",
   "metadata": {},
   "source": [
    "## CSE202 - Disign and Analysis of Algorithms - Week 3 - Divide & Conquer 2: Rankings, Selection"
   ]
  },
  {
   "attachments": {},
   "cell_type": "markdown",
   "metadata": {},
   "source": [
    "日期：2022-11-31\n",
    "\n",
    "姓名：Yubo Cai\n",
    "\n",
    "课程：CSE202 - Disign and Analysis of Algorithms 高级算法设计与分析\n",
    "\n",
    "<img src=\"https://upload.wikimedia.org/wikipedia/commons/0/06/%C3%89cole_polytechnique_signature.svg\" style=\"float: left; width: 15%\" />"
   ]
  },
  {
   "cell_type": "code",
   "execution_count": 1,
   "metadata": {},
   "outputs": [],
   "source": [
    "from sympy.matrices import randMatrix\n",
    "import numpy as np\n",
    "import matplotlib.pyplot as plt\n",
    "import timeit\n",
    "import math\n",
    "import sympy as sym"
   ]
  },
  {
   "attachments": {},
   "cell_type": "markdown",
   "metadata": {},
   "source": [
    "<div style=\"background-color:lightgreen;margin:20px;padding:10px;border-radius:10px;border-width:2px;border-color:black;box-shadow:5px 5px;width:97%\">\n",
    "\n",
    "#### 1.2 Merge Sort\n",
    "\n",
    "Variation of **merge-sort**\n",
    "\n",
    "`Combine:` count yellow-red inversions\n",
    "- assume each half is sorted\n",
    "- count inversions where $A[i]$ and $A[j]$ are in different halves\n",
    "- merge two sorted halves into sorted whole\n",
    "\n",
    "`Merge-and-Count:` count inversions while merging the two sorted lists \n",
    " </div>"
   ]
  },
  {
   "cell_type": "code",
   "execution_count": null,
   "metadata": {},
   "outputs": [],
   "source": [
    "def mergesort(seq):\n",
    "    \"\"\"归并排序\"\"\"\n",
    "    if len(seq) <= 1:\n",
    "        return seq\n",
    "    mid = len(seq) / 2  # 将列表分成更小的两个列表\n",
    "    # 分别对左右两个列表进行处理，分别返回两个排序好的列表\n",
    "    left = mergesort(seq[:mid])\n",
    "    right = mergesort(seq[mid:])\n",
    "    # 对排序好的两个列表合并，产生一个新的排序好的列表\n",
    "    return merge(left, right)\n",
    "\n",
    "\n",
    "def merge(left, right):\n",
    "    \"\"\"合并两个已排序好的列表，产生一个新的已排序好的列表\"\"\"\n",
    "    result = []  # 新的已排序好的列表\n",
    "    i = 0  # 下标\n",
    "    j = 0\n",
    "    # 对两个列表中的元素 两两对比。\n",
    "    # 将最小的元素，放到result中，并对当前列表下标加1\n",
    "    while i < len(left) and j < len(right):\n",
    "        if left[i] <= right[j]:\n",
    "            result.append(left[i])\n",
    "            i += 1\n",
    "        else:\n",
    "            result.append(right[j])\n",
    "            j += 1\n",
    "    result += left[i:]\n",
    "    result += right[j:]\n",
    "    return result"
   ]
  },
  {
   "attachments": {},
   "cell_type": "markdown",
   "metadata": {},
   "source": [
    "<div style=\"background-color:lightblue;margin:20px;padding:10px;border-radius:10px;border-width:2px;border-color:black;box-shadow:5px 5px;width:97%\">\n",
    "\n",
    "#### 1.2 Complexity of Merge Sort\n",
    "$$\n",
    "\\begin{aligned}\n",
    "C(n) &= 2C(n/2) + \\lambda n \\\\\n",
    "&\\leq \\lambda n+2 \\lambda\\lceil n / 2\\rceil+4 C\\left(\\lceil n / 2\\rceil_2\\right) \\\\\n",
    "&\\leq \\lambda N(1+1+\\cdots+1)+2^k C\\left(\\lceil n / 2\\rceil_k\\right) \\\\\n",
    "&\\leq \\lambda N(k-1)+2^k C\\left(\\lceil n / 2\\rceil_k\\right) \\\\\n",
    "&=\\lambda n\\left(\\left\\lceil\\log _2 n\\right\\rceil-1\\right)+2^{\\left\\lceil\\log _2 n\\right\\rceil} \\\\\n",
    "&=O\\left(n \\log n\\right)\n",
    "\\end{aligned}\n",
    "$$\n",
    "\n",
    "#### 1.3 Complexity of DAC algorithms\n",
    "$O(\\log n)$: binary powering\n",
    "\n",
    "$O(n \\log n)$: merge sort, counting inversions\n",
    "\n",
    "$O(n \\log_2 3 \\simeq n^{1.58})$: Karatsuba multiplication (integers, polynomials)\n",
    "\n",
    "$O(n \\log_2 7 \\simeq n^{2.80})$: Strassen’s matrix multiplication\n",
    "\n",
    " </div>"
   ]
  },
  {
   "cell_type": "markdown",
   "metadata": {},
   "source": [
    "### 2.Median-of-medians selection algorithm\n",
    "\n",
    "<img src=\"https://miro.medium.com/max/720/1*UuA-V2XSErqLrG4RmCBBoQ.jpeg\" style=\"float: left; width: 30%\" />"
   ]
  },
  {
   "cell_type": "markdown",
   "metadata": {},
   "source": [
    "`Median-of-medians selection algorithm recurrence.`\n",
    "- select called recursively with $\\frac{n}{5}$ elements to compute MOM p\n",
    "- at least $\\frac{3n}{10}$ elements $\\leq p$\n",
    "- at least $\\frac{3n}{10}$ elements $\\geq p$\n",
    "- select called recursively with at most $n-\\frac{3}{10}$ elements\n",
    "$$\n",
    "C(n) \\leq C(\\lfloor n / 5\\rfloor)+C(n-3\\lfloor n / 10\\rfloor)+\\frac{11}{5} n\n",
    "$$"
   ]
  }
 ],
 "metadata": {
  "kernelspec": {
   "display_name": "Python 3.9.7 ('base')",
   "language": "python",
   "name": "python3"
  },
  "language_info": {
   "codemirror_mode": {
    "name": "ipython",
    "version": 3
   },
   "file_extension": ".py",
   "mimetype": "text/x-python",
   "name": "python",
   "nbconvert_exporter": "python",
   "pygments_lexer": "ipython3",
   "version": "3.9.7 (default, Sep 16 2021, 08:50:36) \n[Clang 10.0.0 ]"
  },
  "orig_nbformat": 4,
  "vscode": {
   "interpreter": {
    "hash": "40d3a090f54c6569ab1632332b64b2c03c39dcf918b08424e98f38b5ae0af88f"
   }
  }
 },
 "nbformat": 4,
 "nbformat_minor": 2
}
