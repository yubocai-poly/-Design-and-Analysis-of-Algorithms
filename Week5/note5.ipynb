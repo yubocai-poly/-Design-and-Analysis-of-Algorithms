{
 "cells": [
  {
   "cell_type": "markdown",
   "metadata": {},
   "source": [
    "## CSE202 - Disign and Analysis of Algorithms - Week 5 - Randomized Algorithms 1: Principle & First Examples"
   ]
  },
  {
   "cell_type": "markdown",
   "metadata": {},
   "source": [
    "日期：2022-10-21\n",
    "\n",
    "姓名：Yubo Cai\n",
    "\n",
    "课程：CSE202 - Disign and Analysis of Algorithms 高级算法设计与分析\n",
    "\n",
    "<img src=\"https://raw.githubusercontent.com/adimajo/CSE204-2021/master/data/logo.jpg\" style=\"float: left; width: 15%\" />"
   ]
  },
  {
   "cell_type": "code",
   "execution_count": 1,
   "metadata": {},
   "outputs": [],
   "source": [
    "from sympy.matrices import randMatrix\n",
    "import numpy as np\n",
    "import matplotlib.pyplot as plt\n",
    "import timeit\n",
    "import math\n",
    "import sympy as sym"
   ]
  },
  {
   "cell_type": "markdown",
   "metadata": {},
   "source": [
    "### Quick Sort"
   ]
  },
  {
   "cell_type": "markdown",
   "metadata": {},
   "source": [
    "**Input:** an array of n comparable elements - a pivot p among them\n",
    "\n",
    "**Output:**  array partitioned around p - new index of p. \n",
    "\n",
    "快速排序使用分治法来把一个串（list）分为两个子串（sub-lists）。具体算法描述如下：\n",
    "- 从数列中挑出一个元素，称为 “基准”（pivot)\n",
    "- 重新排序数列，所有元素比基准值小的摆放在基准前面，所有元素比基准值大的摆在基准的后面（相同的数可以到任一边）。在这个分区退出之后，该基准就处于数列的中间位置。这个称为分区（partition）操作\n",
    "- 递归地（recursive）把小于基准值元素的子数列和大于基准值元素的子数列排序\n",
    "\n",
    "[Quick Sort](https://blog.csdn.net/ytx2014214081/article/details/105841969)"
   ]
  },
  {
   "cell_type": "code",
   "execution_count": 6,
   "metadata": {},
   "outputs": [
    {
     "name": "stdout",
     "output_type": "stream",
     "text": [
      "[1, 1, 2, 2, 3, 3, 4, 12, 34, 154]\n"
     ]
    }
   ],
   "source": [
    "def partition(A, lo, hi):\n",
    "    p = A[lo]\n",
    "    i = lo\n",
    "    j = hi\n",
    "    while True:\n",
    "        for i in range(i + 1, hi):\n",
    "            if A[i] >= p:\n",
    "                break\n",
    "        for j in range(j - 1, lo - 1, -1):\n",
    "            if A[j] <= p:\n",
    "                break\n",
    "        if i >= j:\n",
    "            break\n",
    "        A[i], A[j] = A[j], A[i]\n",
    "    A[lo], A[j] = A[j], A[lo]\n",
    "    return j\n",
    "\n",
    "\n",
    "def sort(A):\n",
    "    quicksort(A, 0, len(A))\n",
    "\n",
    "\n",
    "def quicksort(A, lo, hi):\n",
    "    if hi <= lo + 1:\n",
    "        return\n",
    "    q = partition(A, lo, hi)\n",
    "    quicksort(A, lo, q)\n",
    "    quicksort(A, q + 1, hi)\n",
    "\n",
    "A = [1, 2, 3, 1, 4, 2, 34, 154, 12, 3]\n",
    "sort(A)\n",
    "print(A)\n",
    "\n",
    "\n",
    "def main():\n",
    "    A = randMatrix(1, 1000).tolist()[0]\n",
    "    B = A.copy()\n",
    "    start = timeit.default_timer()\n",
    "    sort(A)\n",
    "    stop = timeit.default_timer()\n",
    "    print('Time:', stop - start)\n",
    "    start = timeit.default_timer()\n",
    "    B.sort()\n",
    "    stop = timeit.default_timer()\n",
    "    print('Time:', stop - start)\n",
    "    print(A == B)\n"
   ]
  },
  {
   "cell_type": "markdown",
   "metadata": {},
   "source": [
    "#### Complexity Analysis - Worst Case\n",
    "\n",
    "Quadratic worst-case on a sorted array: 1 2 3 4 5 6\n",
    "\n",
    "- 1 is compared with the $n-1$ other entries\n",
    "- sorting is called recursively on $A[2:n]$\n",
    "\n",
    "$(n-1)+(n-2)+...=\\frac{n(n-1)}{2}=O(n^2)$ comparisons\n",
    "\n",
    "#### Complexity Analysis - Average Case\n",
    "\n",
    "**Strong Hypothesis:** the keys are distinct and all permutations of the input are equally likely\n",
    "\n",
    "Therefore, we can use the expected number of comparisons as the running time and compute recursively to get the average case running time. $C_{n}$ := num. comparisons\n",
    "$$\n",
    "C_{0} = 0 \n",
    "$$\n",
    "$$\n",
    "C_n=\\underbrace{n-1}_{\\text {partition }}+C_{i-1}+C_{n-i} \\quad \\text { if pivot at index } i\n",
    "$$\n",
    "Average number of comparisons $E_{n} := \\mathbb{E}(C_n)$\n",
    "\n",
    "The starting point is to decompose the expected number of comparisons according to the location of the pivot:\n",
    "$$\n",
    "\\begin{aligned}\n",
    "\\mathbb{E}\\left(C_n\\right) &=\\sum_{i=1}^n \\mathbb{E}\\left(C_n \\mid \\text { pivot at } i\\right) \\operatorname{Pr}(\\text { pivot at } i) \\\\\n",
    "&=\\sum_{i=1}^n \\mathbb{E}\\left(n-1+C_{i-1}+C_{n-i}\\right) \\frac{1}{n},\n",
    "\\end{aligned}\n",
    "$$\n",
    "whence by linearity of expectation\n",
    "$$\n",
    "E_n=n-1+\\sum_{i=1}^n \\frac{E_{i-1}+E_{n-i}}{n} .\n",
    "$$\n",
    "By reorganization of the final sum, this becomes\n",
    "$$\n",
    "E_n=n-1+\\frac{2}{n}\\left(E_0+\\cdots+E_{n-1}\\right) .\n",
    "$$\n",
    "The sum will be disposed of by first isolating it\n",
    "$$\n",
    "n E_n-n(n-1)=2\\left(E_0+\\cdots+E_{n-1}\\right)\n",
    "$$\n",
    "and subtracting two consecutive values, which leads to a simple linear recurrence\n",
    "$$\n",
    "n E_n-(n-1) E_{n-1}-2(n-1)=2 E_{n-1} \\text {. }\n",
    "$$\n",
    "Rearranging and dividing by $n(n+1)$ gives\n",
    "(2) $\\frac{E_n}{n+1}-\\frac{E_{n-1}}{n}=\\frac{2(n-1)}{n(n+1)}=\\frac{4}{n+1}-\\frac{2}{n}$.\n",
    "Now, the left-hand side telescopes when summing for $n=1$ to $N$ (we use that $\\left.E_0=C_0=0\\right)$, leading to\n",
    "$$\n",
    "\\frac{E_N}{N+1}=4\\left(\\frac{1}{2}+\\frac{1}{3}+\\cdots+\\frac{1}{N+1}\\right)-2\\left(1+\\frac{1}{2}+\\cdots+\\frac{1}{N}\\right)=2 H_N-\\frac{4 N}{N+1},\n",
    "$$\n",
    "where\n",
    "$$\n",
    "H_N=1+\\cdots+\\frac{1}{N}=\\log N+\\gamma+O(1 / N), \\quad N \\rightarrow \\infty\n",
    "$$\n",
    "is the Nth harmonic number, and $\\gamma \\approx 0.577$ denotes Euler's constant.\n",
    "\n"
   ]
  },
  {
   "cell_type": "code",
   "execution_count": 7,
   "metadata": {},
   "outputs": [],
   "source": [
    "# randomize the input\n",
    "import random\n",
    "def sort(A):\n",
    "    random.shuffle(A)\n",
    "    quicksort(A,0,len(A))"
   ]
  },
  {
   "cell_type": "markdown",
   "metadata": {},
   "source": [
    "Now, for arbitrarily bad input, the expected number of comparisons is $\\simeq 2n\\log n - 2.85n$"
   ]
  }
 ],
 "metadata": {
  "kernelspec": {
   "display_name": "Python 3.9.7 ('base')",
   "language": "python",
   "name": "python3"
  },
  "language_info": {
   "codemirror_mode": {
    "name": "ipython",
    "version": 3
   },
   "file_extension": ".py",
   "mimetype": "text/x-python",
   "name": "python",
   "nbconvert_exporter": "python",
   "pygments_lexer": "ipython3",
   "version": "3.9.7"
  },
  "orig_nbformat": 4,
  "vscode": {
   "interpreter": {
    "hash": "40d3a090f54c6569ab1632332b64b2c03c39dcf918b08424e98f38b5ae0af88f"
   }
  }
 },
 "nbformat": 4,
 "nbformat_minor": 2
}
