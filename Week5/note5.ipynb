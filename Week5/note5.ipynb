{
 "cells": [
  {
   "cell_type": "markdown",
   "metadata": {},
   "source": [
    "## CSE202 - Disign and Analysis of Algorithms - Week 5 - Randomized Algorithms 1: Principle & First Examples"
   ]
  },
  {
   "cell_type": "markdown",
   "metadata": {},
   "source": [
    "日期：2022-10-21\n",
    "\n",
    "姓名：Yubo Cai\n",
    "\n",
    "课程：CSE202 - Disign and Analysis of Algorithms 高级算法设计与分析\n",
    "\n",
    "<img src=\"https://raw.githubusercontent.com/adimajo/CSE204-2021/master/data/logo.jpg\" style=\"float: left; width: 15%\" />"
   ]
  },
  {
   "cell_type": "code",
   "execution_count": 1,
   "metadata": {},
   "outputs": [],
   "source": [
    "from sympy.matrices import randMatrix\n",
    "import numpy as np\n",
    "import matplotlib.pyplot as plt\n",
    "import timeit\n",
    "import math\n",
    "import sympy as sym"
   ]
  },
  {
   "cell_type": "markdown",
   "metadata": {},
   "source": [
    "### 1. Two Flavours of Randomized Algorithms\n",
    "\n",
    "`Las Vegas:` algorithms always give the correct answer, but may take a long time to do so. \n",
    "\n",
    "`Monte Carlo:` algorithms may give the wrong answer, but with bounded probability."
   ]
  },
  {
   "cell_type": "markdown",
   "metadata": {},
   "source": [
    "### 2. Min-Cut in a Graph 最小割问题\n",
    "\n",
    "#### 2.1. Global Minimum Cut \n",
    "\n",
    "Let $G = (V,E)$ be an **undirected multi-graph** (can have multiple edges between the same two vertices)\n",
    "\n",
    "The `cut of a partition (S, S')` of $V$ is the set of edges that connect a vertex in $S$ to a vertex in $S'$.\n",
    "\n",
    "`Global min cut.` Given G, find a cut $(S, S')$ of minimum cardinality.\n",
    "\n",
    "**Applications**. Partitioning items in a database, network realiability, network design, etc."
   ]
  },
  {
   "cell_type": "markdown",
   "metadata": {},
   "source": [
    "#### 2.2 Karger's Algorithm\n",
    "\n",
    "<img src=\"https://upload.wikimedia.org/wikipedia/commons/e/e7/Single_run_of_Karger%E2%80%99s_Mincut_algorithm.svg\" style=\"float:; width: 100%\" />"
   ]
  },
  {
   "cell_type": "markdown",
   "metadata": {},
   "source": [
    "[具体过程](https://en.wikipedia.org/wiki/Karger%27s_algorithm) \n",
    "\n",
    "`算法描述:` 对于一个无向图$G$，为找到它的最小割$(S,T)$， 随机选择一条边，将这条边无限变短直到两关联结点重合，然后继承除被缩短的边以外其余所有边，删去自环。\n",
    "\n",
    "重复以上过程，直到图中只剩下两个结点。这两个结点代表的就是这样的一个最小割。\n",
    "\n",
    "如下的无向图\n",
    "```python\n",
    "      1\n",
    "    /  |\n",
    "  /    |\n",
    "2------3\n",
    "|      |\n",
    "|      |\n",
    "4------5\n",
    "```\n",
    "合并结点1， 3后，得到\n",
    "```python\n",
    " _______\n",
    "/       \\\n",
    "2-------1, 3\n",
    "|        |\n",
    "|        |\n",
    "4--------5\n",
    "```\n",
    "注意，此时（1， 2）,（3， 2）两条边虽然共同组成了一个环，但它们没有一个是自环，因此必须保留。接下来假设我们合并1， 2， 得到下图：\n",
    "```python\n",
    "________\n",
    "\\       |\n",
    " \\      |\n",
    "  \\     |\n",
    "  1, 2, 3\n",
    "   /    |\n",
    " /      |\n",
    "4-------5\n",
    "```\n",
    "注意此时1， 2， 3形成了自环，因此删去自环边，所以这一步骤结束后的图应当是\n",
    "```python\n",
    "  1, 2, 3\n",
    "  /     |\n",
    " /       |\n",
    "/        |\n",
    "4--------5\n",
    "```\n",
    "最后合并1， 3， 4， 5， 得到一个只有两个结点的图，这两个结点就是最小割。\n",
    "\n"
   ]
  },
  {
   "cell_type": "markdown",
   "metadata": {},
   "source": [
    "#### 2.3 Description of Karger's Algorithm\n",
    "\n",
    "1. Pick an edge $e=(u,v)$ uniformly at random\n",
    "\n",
    "2. Contract $e$ i.e. $u$ absorbs $v$\n",
    "    - delete edges between $u$ and $v$\n",
    "    - redirect edges from $v$ to $u$\n",
    "\n",
    "3. Repeat until multi-graph has just two nodes $u_1$ and $v_1$ \n",
    "\n",
    "4. Return the cut $(S, S')$ where $S$ is the set of nodes absorbed by $u_1$"
   ]
  },
  {
   "cell_type": "markdown",
   "metadata": {},
   "source": [
    "#### 2.4 Probability of Success\n",
    "\n",
    "The contraction algorithms returns a min cut with\n",
    "$$\n",
    "\\mathbb{P}(\\text{success}) \\geq \\frac{2}{n(n-1)}\n",
    "$$\n",
    "where n is the number of vertices in the graph.\n",
    "\n",
    "Let $C$ be a min cut with $k$ edges.\n",
    "\n",
    "Let $e_{1},...,e_{n-2}$ be the contracted edges (output is C if none of them are in C)\n",
    "- each vertex has degree at least $k \\rightarrow$ there are at leat $\\frac{nk}{2}$ edges\n",
    "- $e_1$ is in $C$ with prob $\\frac{k}{\\#edges} \\leq \\frac{2}{n}$ and not in $C$ with prob $\\geq \\frac{n-2}{n}$\n",
    "- if $e_1$ is not in $C$, then $C$ is still a mincut of contraction $(G, e_{1})$\n",
    "- conditioned that $e_1, \\ldots, e_{i-1}$ are not in $C, e_i$ is not in $C$ with prob $\\geq \\frac{n-i-1}{n-i+1}$\n",
    "\n",
    "Therefore, the probability that $C$ is a min cut is \n",
    "$$\n",
    "\\frac{n-2}{n} \\cdot \\frac{n-3}{n-1} \\cdot \\frac{n-4}{n-2} ... \\frac{2}{4} \\cdot \\frac{1}{3}= \\frac{2}{n(n-1)}\n",
    "$$\n",
    "If we repeat the algorithm $n^2$ times, then the probability of failing to find the min cut is $\\mathbb{P}(failing)=\\frac{1}{n^2}$\n",
    "$$\n",
    "\\left(1-\\frac{2}{n^2}\\right)^{n^2 \\ln n}=\\left[\\left(1-\\frac{2}{n^2}\\right)^{\\frac{1}{2} n^2}\\right]^{2 \\ln n} \\leq\\left(e^{-1}\\right)^{2 \\ln n}=\\frac{1}{n^2}\n",
    "$$\n",
    "`Complexity:` $O(n^{4}\\ln n)$"
   ]
  },
  {
   "cell_type": "markdown",
   "metadata": {},
   "source": [
    "### 3. Quick Sort 快速排序"
   ]
  },
  {
   "cell_type": "markdown",
   "metadata": {},
   "source": [
    "**Input:** an array of n comparable elements - a pivot p among them\n",
    "\n",
    "**Output:**  array partitioned around p - new index of p. \n",
    "\n",
    "快速排序使用分治法来把一个串（list）分为两个子串（sub-lists）。具体算法描述如下：\n",
    "- 从数列中挑出一个元素，称为 “基准”（pivot)\n",
    "- 重新排序数列，所有元素比基准值小的摆放在基准前面，所有元素比基准值大的摆在基准的后面（相同的数可以到任一边）。在这个分区退出之后，该基准就处于数列的中间位置。这个称为分区（partition）操作\n",
    "- 递归地（recursive）把小于基准值元素的子数列和大于基准值元素的子数列排序\n",
    "\n",
    "[Quick Sort](https://blog.csdn.net/ytx2014214081/article/details/105841969)"
   ]
  },
  {
   "cell_type": "code",
   "execution_count": 6,
   "metadata": {},
   "outputs": [
    {
     "name": "stdout",
     "output_type": "stream",
     "text": [
      "[1, 1, 2, 2, 3, 3, 4, 12, 34, 154]\n"
     ]
    }
   ],
   "source": [
    "def partition(A, lo, hi):\n",
    "    p = A[lo]\n",
    "    i = lo\n",
    "    j = hi\n",
    "    while True:\n",
    "        for i in range(i + 1, hi):\n",
    "            if A[i] >= p:\n",
    "                break\n",
    "        for j in range(j - 1, lo - 1, -1):\n",
    "            if A[j] <= p:\n",
    "                break\n",
    "        if i >= j:\n",
    "            break\n",
    "        A[i], A[j] = A[j], A[i]\n",
    "    A[lo], A[j] = A[j], A[lo]\n",
    "    return j\n",
    "\n",
    "\n",
    "def sort(A):\n",
    "    quicksort(A, 0, len(A))\n",
    "\n",
    "\n",
    "def quicksort(A, lo, hi):\n",
    "    if hi <= lo + 1:\n",
    "        return\n",
    "    q = partition(A, lo, hi)\n",
    "    quicksort(A, lo, q)\n",
    "    quicksort(A, q + 1, hi)\n",
    "\n",
    "A = [1, 2, 3, 1, 4, 2, 34, 154, 12, 3]\n",
    "sort(A)\n",
    "print(A)\n",
    "\n",
    "\n",
    "def main():\n",
    "    A = randMatrix(1, 1000).tolist()[0]\n",
    "    B = A.copy()\n",
    "    start = timeit.default_timer()\n",
    "    sort(A)\n",
    "    stop = timeit.default_timer()\n",
    "    print('Time:', stop - start)\n",
    "    start = timeit.default_timer()\n",
    "    B.sort()\n",
    "    stop = timeit.default_timer()\n",
    "    print('Time:', stop - start)\n",
    "    print(A == B)\n"
   ]
  },
  {
   "cell_type": "markdown",
   "metadata": {},
   "source": [
    "#### Complexity Analysis - Worst Case\n",
    "\n",
    "Quadratic worst-case on a sorted array: 1 2 3 4 5 6\n",
    "\n",
    "- 1 is compared with the $n-1$ other entries\n",
    "- sorting is called recursively on $A[2:n]$\n",
    "\n",
    "$(n-1)+(n-2)+...=\\frac{n(n-1)}{2}=O(n^2)$ comparisons\n",
    "\n",
    "#### Complexity Analysis - Average Case\n",
    "\n",
    "**Strong Hypothesis:** the keys are distinct and all permutations of the input are equally likely\n",
    "\n",
    "Therefore, we can use the expected number of comparisons as the running time and compute recursively to get the average case running time. $C_{n}$ := num. comparisons\n",
    "$$\n",
    "C_{0} = 0 \n",
    "$$\n",
    "$$\n",
    "C_n=\\underbrace{n-1}_{\\text {partition }}+C_{i-1}+C_{n-i} \\quad \\text { if pivot at index } i\n",
    "$$\n",
    "Average number of comparisons $E_{n} := \\mathbb{E}(C_n)$\n",
    "\n",
    "The starting point is to decompose the expected number of comparisons according to the location of the pivot:\n",
    "$$\n",
    "\\begin{aligned}\n",
    "\\mathbb{E}\\left(C_n\\right) &=\\sum_{i=1}^n \\mathbb{E}\\left(C_n \\mid \\text { pivot at } i\\right) \\operatorname{Pr}(\\text { pivot at } i) \\\\\n",
    "&=\\sum_{i=1}^n \\mathbb{E}\\left(n-1+C_{i-1}+C_{n-i}\\right) \\frac{1}{n},\n",
    "\\end{aligned}\n",
    "$$\n",
    "whence by linearity of expectation\n",
    "$$\n",
    "E_n=n-1+\\sum_{i=1}^n \\frac{E_{i-1}+E_{n-i}}{n} .\n",
    "$$\n",
    "By reorganization of the final sum, this becomes\n",
    "$$\n",
    "E_n=n-1+\\frac{2}{n}\\left(E_0+\\cdots+E_{n-1}\\right) .\n",
    "$$\n",
    "The sum will be disposed of by first isolating it\n",
    "$$\n",
    "n E_n-n(n-1)=2\\left(E_0+\\cdots+E_{n-1}\\right)\n",
    "$$\n",
    "and subtracting two consecutive values, which leads to a simple linear recurrence\n",
    "$$\n",
    "n E_n-(n-1) E_{n-1}-2(n-1)=2 E_{n-1} \\text {. }\n",
    "$$\n",
    "Rearranging and dividing by $n(n+1)$ gives\n",
    "(2) $\\frac{E_n}{n+1}-\\frac{E_{n-1}}{n}=\\frac{2(n-1)}{n(n+1)}=\\frac{4}{n+1}-\\frac{2}{n}$.\n",
    "Now, the left-hand side telescopes when summing for $n=1$ to $N$ (we use that $\\left.E_0=C_0=0\\right)$, leading to\n",
    "$$\n",
    "\\frac{E_N}{N+1}=4\\left(\\frac{1}{2}+\\frac{1}{3}+\\cdots+\\frac{1}{N+1}\\right)-2\\left(1+\\frac{1}{2}+\\cdots+\\frac{1}{N}\\right)=2 H_N-\\frac{4 N}{N+1},\n",
    "$$\n",
    "where\n",
    "$$\n",
    "H_N=1+\\cdots+\\frac{1}{N}=\\log N+\\gamma+O(1 / N), \\quad N \\rightarrow \\infty\n",
    "$$\n",
    "is the Nth harmonic number, and $\\gamma \\approx 0.577$ denotes Euler's constant.\n",
    "\n"
   ]
  },
  {
   "cell_type": "code",
   "execution_count": 7,
   "metadata": {},
   "outputs": [],
   "source": [
    "# randomize the input\n",
    "import random\n",
    "def sort(A):\n",
    "    random.shuffle(A)\n",
    "    quicksort(A,0,len(A))"
   ]
  },
  {
   "cell_type": "markdown",
   "metadata": {},
   "source": [
    "Now, for arbitrarily bad input, the expected number of comparisons is $\\simeq 2n\\log n - 2.85n$"
   ]
  }
 ],
 "metadata": {
  "kernelspec": {
   "display_name": "Python 3.9.7 ('base')",
   "language": "python",
   "name": "python3"
  },
  "language_info": {
   "codemirror_mode": {
    "name": "ipython",
    "version": 3
   },
   "file_extension": ".py",
   "mimetype": "text/x-python",
   "name": "python",
   "nbconvert_exporter": "python",
   "pygments_lexer": "ipython3",
   "version": "3.9.7"
  },
  "orig_nbformat": 4,
  "vscode": {
   "interpreter": {
    "hash": "40d3a090f54c6569ab1632332b64b2c03c39dcf918b08424e98f38b5ae0af88f"
   }
  }
 },
 "nbformat": 4,
 "nbformat_minor": 2
}
