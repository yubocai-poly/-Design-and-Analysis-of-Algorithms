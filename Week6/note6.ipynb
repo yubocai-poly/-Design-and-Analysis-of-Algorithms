{
 "cells": [
  {
   "cell_type": "markdown",
   "metadata": {},
   "source": [
    "## CSE202 - Disign and Analysis of Algorithms - Week 6 - Randomized Algorithms 2: Hashing"
   ]
  },
  {
   "cell_type": "markdown",
   "metadata": {},
   "source": [
    "日期：2022-10-30\n",
    "\n",
    "姓名：Yubo Cai\n",
    "\n",
    "课程：CSE202 - Disign and Analysis of Algorithms 高级算法设计与分析\n",
    "\n",
    "<img src=\"https://raw.githubusercontent.com/adimajo/CSE204-2021/master/data/logo.jpg\" style=\"float: left; width: 15%\" />"
   ]
  },
  {
   "cell_type": "code",
   "execution_count": 3,
   "metadata": {},
   "outputs": [],
   "source": [
    "from sympy.matrices import randMatrix\n",
    "import numpy as np\n",
    "import matplotlib.pyplot as plt\n",
    "import timeit\n",
    "import math\n",
    "import sympy as sym\n",
    "import crypt"
   ]
  },
  {
   "cell_type": "markdown",
   "metadata": {},
   "source": [
    "### 1. Hash Functions"
   ]
  },
  {
   "cell_type": "markdown",
   "metadata": {},
   "source": [
    "**Definition.** A hash function $h$ is a function that maps a set of keys to a set of integers in the range $[0, m-1]$. The set of keys is called the **domain** of the hash function, and $m$ is called the **size** of the hash function."
   ]
  },
  {
   "cell_type": "code",
   "execution_count": 5,
   "metadata": {},
   "outputs": [
    {
     "data": {
      "text/plain": [
       "'NHIxthtmeVYu2'"
      ]
     },
     "execution_count": 5,
     "metadata": {},
     "output_type": "execute_result"
    }
   ],
   "source": [
    "crypt.crypt(\"My password\")\n",
    "crypt.crypt(\"Not my password\")"
   ]
  },
  {
   "cell_type": "markdown",
   "metadata": {},
   "source": [
    "Python’s built-in hash returns a 64-bit integer\n",
    "\n",
    "Integers: $a$ mod $p$ := $2^{64}$-1 which is a prime number\n",
    "\n",
    "$x=y \\Rightarrow \\operatorname{hash}(x)=\\operatorname{hash}(y)$ even if different types\n",
    "\n",
    "Tuples can be hashed as $\\left(a_0, a_1, a_2\\right) \\mapsto\\left(a_2 x+a_1\\right) x+a_0 \\bmod p$\n",
    "\n"
   ]
  },
  {
   "cell_type": "markdown",
   "metadata": {},
   "source": [
    "### 2. Assumptions on Hash Functions"
   ]
  },
  {
   "cell_type": "markdown",
   "metadata": {},
   "source": [
    "$$\n",
    "h: k \\in U \\mapsto h(k) \\in\\{0, \\ldots, m-1\\}\n",
    "$$\n",
    "**Complexity:** $h(k)$ computed in $O(1)$ operations.\n",
    "\n",
    "**Uniformity Assumption:**\n",
    "$$\n",
    "k_1 \\neq k_2 \\Longrightarrow \\mathbb{P}\\left(h\\left(k_1\\right)=h\\left(k_2\\right)\\right)=\\frac{1}{m} .\n",
    "$$"
   ]
  },
  {
   "cell_type": "markdown",
   "metadata": {},
   "source": [
    "### 3. Collisions & Birthday Paradox"
   ]
  },
  {
   "cell_type": "markdown",
   "metadata": {},
   "source": [
    "$m:$ table size\n",
    "\n",
    "$n:$ number of keys\n",
    "\n",
    "under the uniformity assumption, the probability of a collision is \n",
    "$$\n",
    "\\mathbb{P}(\\text { no collision })=\\left(1-\\frac{1}{m}\\right)\\left(1-\\frac{2}{m}\\right) \\cdots\\left(1-\\frac{n-1}{m}\\right)\n",
    "$$"
   ]
  }
 ],
 "metadata": {
  "kernelspec": {
   "display_name": "Python 3.9.7 ('base')",
   "language": "python",
   "name": "python3"
  },
  "language_info": {
   "codemirror_mode": {
    "name": "ipython",
    "version": 3
   },
   "file_extension": ".py",
   "mimetype": "text/x-python",
   "name": "python",
   "nbconvert_exporter": "python",
   "pygments_lexer": "ipython3",
   "version": "3.9.7 (default, Sep 16 2021, 08:50:36) \n[Clang 10.0.0 ]"
  },
  "orig_nbformat": 4,
  "vscode": {
   "interpreter": {
    "hash": "40d3a090f54c6569ab1632332b64b2c03c39dcf918b08424e98f38b5ae0af88f"
   }
  }
 },
 "nbformat": 4,
 "nbformat_minor": 2
}
